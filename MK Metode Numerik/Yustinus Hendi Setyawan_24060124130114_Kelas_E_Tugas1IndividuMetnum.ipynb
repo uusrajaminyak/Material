{
  "nbformat": 4,
  "nbformat_minor": 0,
  "metadata": {
    "colab": {
      "provenance": []
    },
    "kernelspec": {
      "name": "python3",
      "display_name": "Python 3"
    },
    "language_info": {
      "name": "python"
    }
  },
  "cells": [
    {
      "cell_type": "markdown",
      "source": [
        "Deret taylor dapat dituliskan seperti ini\\\n",
        "*F(x) = F(a) + F'(a)(x-a) + F''(a)/2!(x-a)^2 + F'''(a)/3!(x-a)^3 + ...*\n",
        "\n",
        "dengan fungsi ln(x),pertama kita harus mencari turunan turunannya terlebih dulu,karena yang diminta adalah 5 suku pertama,maka kita akan mencari 5 turunan dari ln(x),yaitu\n",
        "\n",
        "1/x,-1/x^2,2/x^3,-6/x^4,dan 24/x^5\n",
        "\n",
        "masukan kelima turunan tersebut dalam deret taylor dan subtitusikan x = 1 sebagai suku ke 0,maka akan menjadi seperti ini\n",
        "\n",
        "ln(x) ≈ (x-1) - (x-1)^2/2 + (x-1)^3/3 - (x-1)^4/4 + (x-1)^5/5\n",
        "\n",
        "lalu substitusi x dengan 0,2 sesuai soal\n",
        "\n",
        "ln(0,2) ≈ (-0,8) - 0,32 + (-0,1707) - 0,1024 + (-0,0655)\n",
        "\n",
        "ln(0,2) ≈ -1,4586\n",
        "\n",
        "setelah itu kita mencari nilai eksak dengan menggunakan ln(0,2) = -1,6094\n",
        "lalu kita mencari galat dengan rumus |nilai eksak - nilai aproksimasi|\n",
        "\n",
        "|-1,6094 - (-1,4586)| = 0,1508"
      ],
      "metadata": {
        "id": "chNL-c-4CJak"
      }
    },
    {
      "cell_type": "code",
      "execution_count": 14,
      "metadata": {
        "colab": {
          "base_uri": "https://localhost:8080/"
        },
        "id": "sEwN4COTsE-u",
        "outputId": "e2777d56-11ea-429b-e28d-7ef3989e8036"
      },
      "outputs": [
        {
          "output_type": "stream",
          "name": "stdout",
          "text": [
            "Aproksimasi ln(x) dengan x = (0.2) dan n = 5 adalah -1.458602666666667\n",
            "Nilai eksak ln(x) dengan x = (0.2) adalah -1.6094379124341003\n",
            "Galat: 0.15083524576743335\n"
          ]
        }
      ],
      "source": [
        "import sympy as sp #import library sympy untuk mempermudah dalam membuat fungsi untuk perhitungan simbolik\n",
        "import numpy as np #inport library numpy untuk mempermudah dalam membuat fungsi untuk perhitungan numerik\n",
        "\n",
        "x = sp.Symbol('x') #mendefinisi simbol yang akan dipakai\n",
        "f = sp.ln(x) #fungsi yang akan digunakan\n",
        "n = 5 #jumlah suku yang digunakan\n",
        "x_value = 0.2 #nilai x yang akan dipakai\n",
        "\n",
        "def taylor_series(x, n): #fungsi untuk mendefinisi deret taylor\n",
        "    a = 1\n",
        "    result = 0\n",
        "    for i in range(1, n + 1):\n",
        "        term = ((-1)**(i + 1)) * ((x - a)**i) / i\n",
        "        result += term\n",
        "    return result\n",
        "\n",
        "approximation = taylor_series(x_value,n) #fungsi untuk menghitung nilai aproksimasi\n",
        "\n",
        "exact_value = np.log(x_value) #fungsi untuk menghitung nilai eksak\n",
        "\n",
        "error = abs(exact_value - approximation) #fungsi untuk menghitung galat atau error yang terjadi\n",
        "\n",
        "print(f\"Aproksimasi ln(x) dengan x = ({x_value}) dan n = {n} adalah {approximation}\") #fungsi untuk menampilkan hasil dari aproksimasi\n",
        "print(f\"Nilai eksak ln(x) dengan x = ({x_value}) adalah {exact_value}\") #fungsi untuk menampilkan hasil dari nilai eksak\n",
        "print(f\"Galat: {error}\") #fungsi untuk menampilkan hasil dari galat atau error\n"
      ]
    },
    {
      "cell_type": "markdown",
      "source": [
        "Deret maclaurin dapat dituliskan sebagai berikut\n",
        "\n",
        "*F(x) = 1 + x + x^2 +x^3 + x^4 + ...*\n",
        "\n",
        "fungsi yang diberikan adalah 1/1-x dengan x = 0,2 dan jumlah suku yang diambil adalah 5 suku pertama,maka dapat diperoleh\n",
        "\n",
        "1/1-0,2 ≈ 1 + 0,2 + 0,04 + 0,008 + 0,0016\n",
        "\n",
        "1/1-0,2 ≈ 1,2496\n",
        "\n",
        "setelah menemukan nilai aproksimasinya kita akan mencari nilai eksak nya yaitu\n",
        "\n",
        "1/1-0,2 = 1/0,8 = 1,25\n",
        "\n",
        "lalu kita bisa mencari galatnya dengan |nilai eksak - nilai aproksimasi|\n",
        "\n",
        "|1,25 - 1,2496| = 0,0004\n"
      ],
      "metadata": {
        "id": "MX8JTNIiMs-5"
      }
    },
    {
      "cell_type": "code",
      "source": [
        "import sympy as sp #import library sympy untuk mempermudah dalam membuat fungsi untuk perhitungan simbolik\n",
        "import numpy as np #inport library numpy untuk mempermudah dalam membuat fungsi untuk perhitungan numerik\n",
        "\n",
        "x = sp.Symbol('x') #mendefinisikan simbol yang akan dipakai\n",
        "f = 1 / (1 - x) #fungsi yang akan digunakan\n",
        "n = 5 #jumlah suku yang akan dipakai\n",
        "x_val = 0.2 #nilai x yang dipakai\n",
        "\n",
        "def maclaurin_series(x, n): #fungsi untuk mendefinisikan deret maclaurin\n",
        "    result = 0\n",
        "    for i in range(n):\n",
        "        result += x**i\n",
        "    return result\n",
        "\n",
        "approximation = maclaurin_series(x_val,n) #fungsi untuk menghitung nilai aproksimasi\n",
        "\n",
        "exact_value = 1 / (1 - x_val) #fungsi untuk menghitung nilai eksak\n",
        "\n",
        "error = abs(exact_value - approximation) #fungsi untuk menghitung galat atau error\n",
        "\n",
        "print(f\"Aproksimasi 1/(1-x) dengan x = {x_val} dan n={n} adalah {approximation}\") #fungsi untuk menampilkan hasil dari aproksimasi\n",
        "print(f\"Nilai eksak 1/(1-x) dengan x = {x_val} dan n={n} {exact_value}\") #fungsi untuk menampilkan hasil dari nilai eksak\n",
        "print(f\"Galat: {error}\") #fungsi untuk menampilkan hasil dari galat atau error\n"
      ],
      "metadata": {
        "colab": {
          "base_uri": "https://localhost:8080/"
        },
        "id": "Q4OEFrRRsdci",
        "outputId": "3590789e-033f-4a34-f066-a158dd272123"
      },
      "execution_count": 16,
      "outputs": [
        {
          "output_type": "stream",
          "name": "stdout",
          "text": [
            "Aproksimasi 1/(1-x) dengan x = 0.2 dan n=5 adalah 1.2496\n",
            "Nilai eksak 1/(1-x) dengan x = 0.2 dan n=5 1.25\n",
            "Galat: 0.00039999999999995595\n"
          ]
        }
      ]
    },
    {
      "cell_type": "markdown",
      "source": [
        "Kesimpulan yang didapat adalah deret maclaurin lebih efektif untuk menghitung nilai fungsi dalam bentuk deret,apalagi jika nilai x sangat kecil,dengan hanya mengambil 5 suku pertama saja kita sudah bisa mendapat hasil yang mendekati nilai eksak dengan galat yang sangat kecil."
      ],
      "metadata": {
        "id": "gwB8sxurdFtj"
      }
    }
  ]
}