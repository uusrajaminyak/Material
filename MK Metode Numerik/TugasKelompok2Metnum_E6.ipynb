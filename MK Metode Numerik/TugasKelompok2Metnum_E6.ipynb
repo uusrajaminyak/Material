{
  "nbformat": 4,
  "nbformat_minor": 0,
  "metadata": {
    "colab": {
      "provenance": []
    },
    "kernelspec": {
      "name": "python3",
      "display_name": "Python 3"
    },
    "language_info": {
      "name": "python"
    }
  },
  "cells": [
    {
      "cell_type": "markdown",
      "source": [
        "# Akar Persamaan Non-Linier\n",
        "Akar sebuah persamaan non-linier merupakan nilai $x$ yang menyebabkan nilai $f(x)$ sama dengan nol. Dalam hal ini dapat disimpulkan bahwa akar-akar penyelesaian persamaan non-linier merupakan titik potong antara kurva $f(x)$ dengan sumbu $x$.\n",
        "\n",
        "Contoh sederhana dari penentuan akar persamaan non-linier adalah penentuan akar persamaan kuadratik. Secara analitik penentuan akar persamaan kuadratik dapat dilakukan menggunakan persamaan berikut.\n",
        "\n",
        "$$\n",
        "x_{12} = \\frac{-b \\pm \\sqrt{b^2 - 4ac}}{2a}\n",
        "$$\n",
        "\n",
        "Untuk masalah yang lebih rumit, penyelesaian analitik sudah tidak mungkin dilakukan. Metode numerik dapat digunakan untuk menyelesaikan masalah yang lebih kompleks. Untuk mengetahui apakah suatu persamaan non-linier memiliki akar-akar penyelesaian atau tidak, diperlukan analisa menggunakan Teorema berikut:\n",
        "\n",
        "  _Suatu range $x=[a,b]$ mempunyai akar bila $f(a)$ dan $f(b)$ berlawanan tanda atau memenuhi $f(a).f(b)<0$_\n",
        "\n"
      ],
      "metadata": {
        "id": "_5a_njbz2L2a"
      }
    },
    {
      "cell_type": "markdown",
      "source": [
        "## 1. Metode Tertutup\n",
        "\n"
      ],
      "metadata": {
        "id": "HLpgtIKw7Ogh"
      }
    },
    {
      "cell_type": "markdown",
      "source": [
        "### 1.1. Metode Biseksi\n",
        "Prinsip metode bagi dua adalah mengurung akar fungsi pada interval $x=[a,b]$ atau pada nilai $x$ batas bawah $a$ dan batas atas $b$. Selanjutnya interval tersebut terus menerus dibagi 2 hingga sekecil mungkin, sehingga nilai hampiran yang dicari dapat ditentukan dengan tingkat toleransi tertentu."
      ],
      "metadata": {
        "id": "KswY2jhn7WIB"
      }
    },
    {
      "cell_type": "markdown",
      "source": [
        "### contoh\n",
        "\n",
        "Misalkan kita akan mencari akar dari persamaan di bawah ini dengan metode biseksi.\n",
        "$$f(x) = x^3 + 3x -5$$"
      ],
      "metadata": {
        "id": "hoVu25IFpmJ8"
      }
    },
    {
      "cell_type": "code",
      "execution_count": 1,
      "metadata": {
        "id": "T-p_Xaq6UJCQ"
      },
      "outputs": [],
      "source": [
        "# definisikan fungsi\n",
        "def f(x) :\n",
        "    return x**3 + 3*x -5"
      ]
    },
    {
      "cell_type": "markdown",
      "source": [
        "Lalu kita buat fungsi akar mengikuti algoritma metode biseksi."
      ],
      "metadata": {
        "id": "fNWdJUyRqS_l"
      }
    },
    {
      "cell_type": "code",
      "source": [
        "# metode\n",
        "def bisection(a, b, e) :\n",
        "    n = 1\n",
        "    while (b-a) > e :\n",
        "        x = (a+b)/2\n",
        "        print(f\"iterasi {n} = {x}\")\n",
        "\n",
        "        if f(x)*f(a) <0 :\n",
        "            b = x\n",
        "        else :\n",
        "            a = x\n",
        "        n += 1\n",
        "    return x"
      ],
      "metadata": {
        "id": "8wzVlfjmqXPs"
      },
      "execution_count": 2,
      "outputs": []
    },
    {
      "cell_type": "markdown",
      "source": [
        "Dengan keterangan:\n",
        "\n",
        "a = batas bawah\n",
        "\n",
        "b = batas atas\n",
        "\n",
        "e = toleransi error\n",
        "\n",
        "n = jumlah iterasi\n",
        "\n",
        "Kita buat variabel untuk dimasukkan ke fungsi."
      ],
      "metadata": {
        "id": "QJwvUOXhqfxJ"
      }
    },
    {
      "cell_type": "code",
      "source": [
        "# contoh penerapan\n",
        "a = 1\n",
        "b = 2\n",
        "e= 1e-6\n",
        "print(bisection(a, b, e))"
      ],
      "metadata": {
        "colab": {
          "base_uri": "https://localhost:8080/"
        },
        "id": "xgdNjOB2q00W",
        "outputId": "ec1fad91-377d-40a2-bd56-3004c7888b92"
      },
      "execution_count": 3,
      "outputs": [
        {
          "output_type": "stream",
          "name": "stdout",
          "text": [
            "iterasi 1 = 1.5\n",
            "iterasi 2 = 1.25\n",
            "iterasi 3 = 1.125\n",
            "iterasi 4 = 1.1875\n",
            "iterasi 5 = 1.15625\n",
            "iterasi 6 = 1.140625\n",
            "iterasi 7 = 1.1484375\n",
            "iterasi 8 = 1.15234375\n",
            "iterasi 9 = 1.154296875\n",
            "iterasi 10 = 1.1533203125\n",
            "iterasi 11 = 1.15380859375\n",
            "iterasi 12 = 1.154052734375\n",
            "iterasi 13 = 1.1541748046875\n",
            "iterasi 14 = 1.15411376953125\n",
            "iterasi 15 = 1.154144287109375\n",
            "iterasi 16 = 1.1541595458984375\n",
            "iterasi 17 = 1.1541671752929688\n",
            "iterasi 18 = 1.1541709899902344\n",
            "iterasi 19 = 1.1541728973388672\n",
            "iterasi 20 = 1.1541719436645508\n",
            "1.1541719436645508\n"
          ]
        }
      ]
    },
    {
      "cell_type": "markdown",
      "source": [
        "### 1.2. Metode Regula Falsi\n",
        "Metode regula falsi merupakan metode yang menyerupai metode biseksi, dimana iterasi dilakukan dengan terus melakukan pembaharuan rentang untuk memperoleh akar persamaan. Hal yang membedakan metode ini dengan metode biseksi adalah pencarian akar didasarkan pada slope (kemiringan) dan selisih tinggi dari kedua titik rentang. Titik pendekatan pada metode regula-falsi disajikan pada persamaan berikut.\n",
        "\n",
        "$$\n",
        "x = \\frac {f(b).a−f(a).b}{f(b)−f(a)}\n",
        "$$"
      ],
      "metadata": {
        "id": "CMdcFo467mr3"
      }
    },
    {
      "cell_type": "markdown",
      "source": [
        "### contoh"
      ],
      "metadata": {
        "id": "y4_GjoinDo-m"
      }
    },
    {
      "cell_type": "markdown",
      "source": [
        "Misalkan kita akan mencari akar dari persamaan di bawah ini, masih dengan persamaan yang sama dengan metode regula falsi.\n",
        "$$f(x) = x^3 + 3x -5$$\n",
        "Maka fungsi tidak perlu kita deklarasikan ulang. Langsung kita buat fungsi akar dengan algoritma metode regula falsi."
      ],
      "metadata": {
        "id": "i1y3O76GDvdR"
      }
    },
    {
      "cell_type": "code",
      "source": [
        "# metode\n",
        "def regula_falsi(a, b, max) :\n",
        "    n = 1\n",
        "    for n in range(max) :\n",
        "        if (f(b) - f(a)) == 0 :\n",
        "            return None\n",
        "\n",
        "        x = (a * f(b) - b * f(a)) / (f(b) - f(a))\n",
        "        print(f\"iterasi {n} = {x}\")\n",
        "\n",
        "        if f(x)*f(a) <0 :\n",
        "            b = x\n",
        "        else :\n",
        "            a = x\n",
        "\n",
        "        if abs(f(x)) < e:\n",
        "          return x\n",
        "        n += 1\n",
        "    return x"
      ],
      "metadata": {
        "id": "jd6OQxQE8WJS"
      },
      "execution_count": null,
      "outputs": []
    },
    {
      "cell_type": "markdown",
      "source": [
        "Dengan keterangan:\n",
        "\n",
        "a = batas bawah\n",
        "\n",
        "b = batas atas\n",
        "\n",
        "max = maksimal iterasi\n",
        "\n",
        "Kita gunakan variabel yang sama untuk dimasukkan ke fungsi."
      ],
      "metadata": {
        "id": "2fYDXsJREcha"
      }
    },
    {
      "cell_type": "code",
      "source": [
        "# contoh penerapan\n",
        "a = 1\n",
        "b = 2\n",
        "max = 100\n",
        "print(regula_falsi(a, b, max))"
      ],
      "metadata": {
        "colab": {
          "base_uri": "https://localhost:8080/"
        },
        "id": "-K_DKsj4EnsG",
        "outputId": "564c1609-b904-4717-86c6-42aa795a28e6"
      },
      "execution_count": null,
      "outputs": [
        {
          "output_type": "stream",
          "name": "stdout",
          "text": [
            "iterasi 0 = 1.1\n",
            "iterasi 1 = 1.1354466858789625\n",
            "iterasi 2 = 1.147737970248558\n",
            "iterasi 3 = 1.151965708672689\n",
            "iterasi 4 = 1.1534157744799958\n",
            "iterasi 5 = 1.15391264384212\n",
            "iterasi 6 = 1.1540828403853085\n",
            "iterasi 7 = 1.154141132418883\n",
            "iterasi 8 = 1.1541610965554803\n",
            "iterasi 9 = 1.154167933876746\n",
            "iterasi 10 = 1.1541702755129777\n",
            "iterasi 11 = 1.15417107747201\n",
            "iterasi 12 = 1.1541713521252337\n",
            "iterasi 13 = 1.1541714461878683\n",
            "iterasi 14 = 1.1541714784022312\n",
            "iterasi 15 = 1.1541714894349346\n",
            "iterasi 16 = 1.1541714932133906\n",
            "iterasi 17 = 1.1541714945074275\n",
            "iterasi 18 = 1.1541714949506066\n",
            "iterasi 19 = 1.1541714951023856\n",
            "iterasi 20 = 1.1541714951543662\n",
            "iterasi 21 = 1.1541714951721684\n",
            "iterasi 22 = 1.1541714951782656\n",
            "iterasi 23 = 1.1541714951803537\n",
            "iterasi 24 = 1.1541714951810687\n",
            "iterasi 25 = 1.1541714951813136\n",
            "iterasi 26 = 1.1541714951813975\n",
            "iterasi 27 = 1.1541714951814264\n",
            "iterasi 28 = 1.1541714951814361\n",
            "iterasi 29 = 1.1541714951814395\n",
            "iterasi 30 = 1.1541714951814406\n",
            "iterasi 31 = 1.154171495181441\n",
            "iterasi 32 = 1.1541714951814412\n",
            "iterasi 33 = 1.1541714951814412\n",
            "iterasi 34 = 1.1541714951814412\n",
            "iterasi 35 = 1.1541714951814412\n",
            "iterasi 36 = 1.1541714951814412\n",
            "iterasi 37 = 1.1541714951814412\n",
            "iterasi 38 = 1.1541714951814412\n",
            "iterasi 39 = 1.1541714951814412\n",
            "iterasi 40 = 1.1541714951814412\n",
            "iterasi 41 = 1.1541714951814412\n",
            "iterasi 42 = 1.1541714951814412\n",
            "iterasi 43 = 1.1541714951814412\n",
            "iterasi 44 = 1.1541714951814412\n",
            "iterasi 45 = 1.1541714951814412\n",
            "iterasi 46 = 1.1541714951814412\n",
            "iterasi 47 = 1.1541714951814412\n",
            "iterasi 48 = 1.1541714951814412\n",
            "iterasi 49 = 1.1541714951814412\n",
            "iterasi 50 = 1.1541714951814412\n",
            "iterasi 51 = 1.1541714951814412\n",
            "iterasi 52 = 1.1541714951814412\n",
            "iterasi 53 = 1.1541714951814412\n",
            "iterasi 54 = 1.1541714951814412\n",
            "iterasi 55 = 1.1541714951814412\n",
            "iterasi 56 = 1.1541714951814412\n",
            "iterasi 57 = 1.1541714951814412\n",
            "iterasi 58 = 1.1541714951814412\n",
            "iterasi 59 = 1.1541714951814412\n",
            "iterasi 60 = 1.1541714951814412\n",
            "iterasi 61 = 1.1541714951814412\n",
            "iterasi 62 = 1.1541714951814412\n",
            "iterasi 63 = 1.1541714951814412\n",
            "iterasi 64 = 1.1541714951814412\n",
            "iterasi 65 = 1.1541714951814412\n",
            "iterasi 66 = 1.1541714951814412\n",
            "iterasi 67 = 1.1541714951814412\n",
            "iterasi 68 = 1.1541714951814412\n",
            "iterasi 69 = 1.1541714951814412\n",
            "iterasi 70 = 1.1541714951814412\n",
            "iterasi 71 = 1.1541714951814412\n",
            "iterasi 72 = 1.1541714951814412\n",
            "iterasi 73 = 1.1541714951814412\n",
            "iterasi 74 = 1.1541714951814412\n",
            "iterasi 75 = 1.1541714951814412\n",
            "iterasi 76 = 1.1541714951814412\n",
            "iterasi 77 = 1.1541714951814412\n",
            "iterasi 78 = 1.1541714951814412\n",
            "iterasi 79 = 1.1541714951814412\n",
            "iterasi 80 = 1.1541714951814412\n",
            "iterasi 81 = 1.1541714951814412\n",
            "iterasi 82 = 1.1541714951814412\n",
            "iterasi 83 = 1.1541714951814412\n",
            "iterasi 84 = 1.1541714951814412\n",
            "iterasi 85 = 1.1541714951814412\n",
            "iterasi 86 = 1.1541714951814412\n",
            "iterasi 87 = 1.1541714951814412\n",
            "iterasi 88 = 1.1541714951814412\n",
            "iterasi 89 = 1.1541714951814412\n",
            "iterasi 90 = 1.1541714951814412\n",
            "iterasi 91 = 1.1541714951814412\n",
            "iterasi 92 = 1.1541714951814412\n",
            "iterasi 93 = 1.1541714951814412\n",
            "iterasi 94 = 1.1541714951814412\n",
            "iterasi 95 = 1.1541714951814412\n",
            "iterasi 96 = 1.1541714951814412\n",
            "iterasi 97 = 1.1541714951814412\n",
            "iterasi 98 = 1.1541714951814412\n",
            "iterasi 99 = 1.1541714951814412\n",
            "1.1541714951814412\n"
          ]
        }
      ]
    },
    {
      "cell_type": "markdown",
      "source": [
        "## 2. Metode Terbuka\n"
      ],
      "metadata": {
        "id": "P6Cn9THL8XAI"
      }
    },
    {
      "cell_type": "markdown",
      "source": [
        "### 2.1.  Metode Newton-Raphson\n",
        "Metode Newton-Raphson merupakan metode penyelesaian persamaan non-linier dengan menggunakan pendekatan satu titik awal dan mendekatinya dengan memperhatikan slope atau gradien. titik pendekatan dinyatakan pada persamaan berikut.\n",
        "\n",
        "$$\n",
        "x_{n+1} = x_n - \\frac {f(x_n)}{f'(x_n)}\n",
        "$$"
      ],
      "metadata": {
        "id": "wu539lNg8ffd"
      }
    },
    {
      "cell_type": "code",
      "source": [
        "# fungsi\n",
        "def f(x):\n",
        "  return x**3 + 3*x - 5\n",
        "\n",
        "# turunan fungsi\n",
        "def df(x):\n",
        "    return 3*x**2 + 3"
      ],
      "metadata": {
        "id": "LLWlVfk48jHy"
      },
      "execution_count": 13,
      "outputs": []
    },
    {
      "cell_type": "code",
      "source": [
        "# metode\n",
        "def newton_raphson(x0, e, max) :\n",
        "    x = x0\n",
        "    for n in range(max) :\n",
        "        if df(x) == 0 :\n",
        "            return None\n",
        "\n",
        "        x_new = x - f(x) / df(x)\n",
        "        print(f\"iterasi {n} = {x_new}\")\n",
        "\n",
        "        if abs(x_new - x) < e :\n",
        "            return x_new\n",
        "        x = x_new\n",
        "        n += 1\n",
        "    return x"
      ],
      "metadata": {
        "id": "dSVIvb8GJshx"
      },
      "execution_count": 14,
      "outputs": []
    },
    {
      "cell_type": "code",
      "source": [
        "# contoh penerapan\n",
        "x0 = 1.5\n",
        "e = 1e-6\n",
        "max = 100\n",
        "print(newton_raphson(x0, e, max))"
      ],
      "metadata": {
        "colab": {
          "base_uri": "https://localhost:8080/"
        },
        "id": "P2jjhvMpJvtK",
        "outputId": "e42bbf7a-3124-4579-d32a-c016f15e9efc"
      },
      "execution_count": 15,
      "outputs": [
        {
          "output_type": "stream",
          "name": "stdout",
          "text": [
            "iterasi 0 = 1.205128205128205\n",
            "iterasi 1 = 1.1554295272793933\n",
            "iterasi 2 = 1.1541722780324897\n",
            "iterasi 3 = 1.1541714951817446\n",
            "1.1541714951817446\n"
          ]
        }
      ]
    },
    {
      "cell_type": "markdown",
      "source": [
        "### 2.2. Metode Secant\n",
        "Metode Secant merupakan perbaikan dari metode regula-falsi dan Newton Raphson, dimana kemiringan dua titik dinyatakan secara diskrit dengan mengambil bentuk garis lurus yang melalui satu titik."
      ],
      "metadata": {
        "id": "Km4b63LZ8kXp"
      }
    },
    {
      "cell_type": "code",
      "source": [
        "# metode\n",
        "def secant(x0, x1, e, max) :\n",
        "    for n in range(max) :\n",
        "        if (f(x1) - f(x0)) == 0 :\n",
        "            return None\n",
        "\n",
        "        xnew = x0 - f(x0) * (x0 - x1) / (f(x0) - f(x1))\n",
        "        print(f\"iterasi {n} = {x1}\")\n",
        "        x0, x1 = x1, xnew\n",
        "\n",
        "        if abs(x1 - x0) < e :\n",
        "            return x1\n",
        "        x = x1\n",
        "        n += 1\n",
        "    return x"
      ],
      "metadata": {
        "id": "lX44Ao0b8mtv"
      },
      "execution_count": 18,
      "outputs": []
    },
    {
      "cell_type": "code",
      "source": [
        "# contoh penerapan\n",
        "x0 = 1.5\n",
        "x1 = 2\n",
        "e = 1e-6\n",
        "max = 100\n",
        "print(secant(x0, x1, e, max))"
      ],
      "metadata": {
        "id": "dwMd_jZXMHKm",
        "outputId": "b56dadf0-4aeb-48c1-9f2c-1a2578921d58",
        "colab": {
          "base_uri": "https://localhost:8080/"
        }
      },
      "execution_count": 19,
      "outputs": [
        {
          "output_type": "stream",
          "name": "stdout",
          "text": [
            "iterasi 0 = 2\n",
            "iterasi 1 = 1.2653061224489797\n",
            "iterasi 2 = 1.1914917499158155\n",
            "iterasi 3 = 1.1561609017087362\n",
            "iterasi 4 = 1.1542079398857696\n",
            "iterasi 5 = 1.1541715310486438\n",
            "1.1541714951820883\n"
          ]
        }
      ]
    }
  ]
}